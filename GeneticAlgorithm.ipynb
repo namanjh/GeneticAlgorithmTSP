{
  "nbformat": 4,
  "nbformat_minor": 0,
  "metadata": {
    "colab": {
      "name": "TSP1.ipynb",
      "provenance": [],
      "collapsed_sections": []
    },
    "kernelspec": {
      "name": "python3",
      "display_name": "Python 3"
    }
  },
  "cells": [
    {
      "cell_type": "markdown",
      "metadata": {
        "id": "nCmDGV60G_Nl",
        "colab_type": "text"
      },
      "source": [
        "Importing necessary Libraries."
      ]
    },
    {
      "cell_type": "code",
      "metadata": {
        "id": "JqifvQrHwkQU",
        "colab_type": "code",
        "colab": {}
      },
      "source": [
        "import numpy as np\n",
        "import pandas as pd\n",
        "import operator\n",
        "import random\n",
        "import matplotlib.pyplot as plt"
      ],
      "execution_count": 0,
      "outputs": []
    },
    {
      "cell_type": "markdown",
      "metadata": {
        "id": "OVfE05VkAzhc",
        "colab_type": "text"
      },
      "source": [
        "\n",
        "**Genetic Algorithm for Travelling Salesman Problem**\n",
        "\n",
        "Steps:\n",
        "1. Creating the population\n",
        "2. Determining the fittest\n",
        "3. Selecting the mating pool\n",
        "4. Breed\n",
        "5. Mutate\n",
        "6. Repeat"
      ]
    },
    {
      "cell_type": "markdown",
      "metadata": {
        "id": "0chBhbPtBozT",
        "colab_type": "text"
      },
      "source": [
        "**The terms used interchangebly are**\n",
        "\n",
        "1. cities --> gene\n",
        "2. route --> chromosome\n",
        "3. list of routes --> population"
      ]
    },
    {
      "cell_type": "markdown",
      "metadata": {
        "id": "hQgmC0VIHUZ5",
        "colab_type": "text"
      },
      "source": [
        "**1. Creating the classes for City and their Fitness**\n",
        "\n",
        "**City** class --> This class has mehtods like distance and represenation for the city cordinates. \n",
        "\n",
        "**Fitness** class --> This class has the methods to claculate the distance and fitness."
      ]
    },
    {
      "cell_type": "code",
      "metadata": {
        "id": "6Jf0HRUFG4X8",
        "colab_type": "code",
        "colab": {}
      },
      "source": [
        "class City:\n",
        "    def __init__(self, x, y):\n",
        "        self.x = x\n",
        "        self.y = y\n",
        "    \n",
        "    def distance(self, city):\n",
        "        x_distance = abs(self.x - city.x)\n",
        "        y_distance = abs(self.y - city.y)\n",
        "        distance = np.sqrt((x_distance ** 2) + (y_distance ** 2))\n",
        "        return distance\n",
        "    \n",
        "    def __repr__(self):\n",
        "        return \"(\" + str(self.x) + \",\" + str(self.y) + \")\""
      ],
      "execution_count": 0,
      "outputs": []
    },
    {
      "cell_type": "code",
      "metadata": {
        "id": "xe73TW-QKjGv",
        "colab_type": "code",
        "colab": {}
      },
      "source": [
        "#Fitness class to calculate the route distance \n",
        "#the route fitness is calculated as reverse of the route distance\n",
        "class Fitness:\n",
        "    def __init__(self, route):\n",
        "        self.route = route\n",
        "        self.distance = 0\n",
        "        self.fitness= 0.0\n",
        "    \n",
        "    def routeDistance(self):\n",
        "        if self.distance ==0:\n",
        "            pathDistance = 0\n",
        "            for i in range(0, len(self.route)):\n",
        "                fromCity = self.route[i]\n",
        "                toCity = None\n",
        "                if i + 1 < len(self.route):\n",
        "                    toCity = self.route[i + 1]\n",
        "                else:\n",
        "                    toCity = self.route[0]\n",
        "                pathDistance += fromCity.distance(toCity)\n",
        "            self.distance = pathDistance\n",
        "        return self.distance\n",
        "    \n",
        "    def routeFitness(self):\n",
        "        if self.fitness == 0:\n",
        "            self.fitness = 1 / float(self.routeDistance())\n",
        "        return self.fitness"
      ],
      "execution_count": 0,
      "outputs": []
    },
    {
      "cell_type": "markdown",
      "metadata": {
        "id": "yzlkMpQyNQLF",
        "colab_type": "text"
      },
      "source": [
        "**2. Creating the Population & Route**\n",
        "\n",
        "The route is created by the resamping of the complete city list.\n",
        "There are n! combinations of these cities.\n",
        "\n",
        "Initial population is created by creating random routes.\n"
      ]
    },
    {
      "cell_type": "code",
      "metadata": {
        "id": "wdbCI21PMR9G",
        "colab_type": "code",
        "colab": {}
      },
      "source": [
        "#helper function to create routes from list of cities\n",
        "def createRoute(cityList):\n",
        "    route = random.sample(cityList, len(cityList))\n",
        "    return route"
      ],
      "execution_count": 0,
      "outputs": []
    },
    {
      "cell_type": "code",
      "metadata": {
        "id": "xz9NoaCMNhg6",
        "colab_type": "code",
        "colab": {}
      },
      "source": [
        "#helper function to create a sample of initial population from list of cities\n",
        "def createinitialPopulation(population_size, cityList):\n",
        "    new_population = []\n",
        "    for i in range(0, population_size):\n",
        "        new_population.append(createRoute(cityList))\n",
        "    return new_population"
      ],
      "execution_count": 0,
      "outputs": []
    },
    {
      "cell_type": "markdown",
      "metadata": {
        "id": "5QRvfrmmOArH",
        "colab_type": "text"
      },
      "source": [
        "**3. Determining the Fitness**\n",
        "\n",
        "The fitness is determined by the reverse of the distance. This fitness is used to rank the route.\n",
        "\n",
        "Then the route is sorted."
      ]
    },
    {
      "cell_type": "code",
      "metadata": {
        "id": "rG8TwewtN-S2",
        "colab_type": "code",
        "colab": {}
      },
      "source": [
        "#helper function to calculate the fitness, rank and then sort according to the fitness\n",
        "def rankRoutes(population):\n",
        "    fitness_results = {}\n",
        "    for i in range(0,len(population)):\n",
        "        fitness_results[i] = Fitness(population[i]).routeFitness()\n",
        "    return sorted(fitness_results.items(), key = operator.itemgetter(1), reverse = True)"
      ],
      "execution_count": 0,
      "outputs": []
    },
    {
      "cell_type": "markdown",
      "metadata": {
        "id": "R0hAHgzQPB35",
        "colab_type": "text"
      },
      "source": [
        "**4. Selecting Parents for Mating**\n",
        "\n",
        "The parents for mating are chosen on the basis of survival of the fittest. \n",
        "\n",
        "i.e. The concept of **Elitism** is used. \n",
        "\n",
        "Thus, this algorithm is a bit baised towards the more fitter route."
      ]
    },
    {
      "cell_type": "code",
      "metadata": {
        "id": "pPrfKZSqOgQk",
        "colab_type": "code",
        "colab": {}
      },
      "source": [
        "def selection(ranked_population, elite_size):\n",
        "    selected_parents = []\n",
        "    df = pd.DataFrame(np.array(ranked_population), columns=[\"Index\",\"Fitness\"])\n",
        "    df['cum_sum'] = df.Fitness.cumsum()\n",
        "    df['cum_perc'] = 100*df.cum_sum/df.Fitness.sum()\n",
        "    \n",
        "    for i in range(0, elite_size):\n",
        "        selected_parents.append(ranked_population[i][0])\n",
        "    for i in range(0, len(ranked_population) - elite_size):\n",
        "        pick = 100*random.random()\n",
        "        for i in range(0, len(ranked_population)):\n",
        "            if pick <= df.iat[i,3]:\n",
        "                selected_parents.append(ranked_population[i][0])\n",
        "                break\n",
        "    return selected_parents"
      ],
      "execution_count": 0,
      "outputs": []
    },
    {
      "cell_type": "code",
      "metadata": {
        "id": "wp7MwlloSIGW",
        "colab_type": "code",
        "colab": {}
      },
      "source": [
        "#creating the mating pool with the parents selected from the parents\n",
        "def matingPool(population, selected_parents):\n",
        "    mating_pool = []\n",
        "    for i in range(0, len(selected_parents)):\n",
        "        index = selected_parents[i]\n",
        "        mating_pool.append(population[index])\n",
        "    return mating_pool"
      ],
      "execution_count": 0,
      "outputs": []
    },
    {
      "cell_type": "markdown",
      "metadata": {
        "id": "5bZwc2qXSp2h",
        "colab_type": "text"
      },
      "source": [
        "**4. Creating the Breed**\n",
        "\n",
        "The breed is created using the genes from the first and the second parent. \n",
        "\n",
        "Thus, the children is combination of both the parent routes."
      ]
    },
    {
      "cell_type": "code",
      "metadata": {
        "id": "_zotL_3YSnfz",
        "colab_type": "code",
        "colab": {}
      },
      "source": [
        "#creating the children by selecting a part from 1st parent and then replacing the cities not present in another 2nd parent\n",
        "def breed(parent1, parent2):\n",
        "    child = []\n",
        "    child_from_P1 = []\n",
        "    child_from_P2 = []\n",
        "\n",
        "    index1 = int(random.random() * len(parent1))\n",
        "    index2 = int(random.random() * len(parent1))\n",
        "    startGene = min(index1, index2)\n",
        "    endGene = max(index2, index1)\n",
        "\n",
        "    for i in range(startGene, endGene):\n",
        "        child_from_P1.append(parent1[i])\n",
        "    child_from_P2 = [gene for gene in parent2 if gene not in child_from_P1]\n",
        "\n",
        "    child = child_from_P1 + child_from_P2\n",
        "    return child"
      ],
      "execution_count": 0,
      "outputs": []
    },
    {
      "cell_type": "code",
      "metadata": {
        "id": "hHTC1m64UWhl",
        "colab_type": "code",
        "colab": {}
      },
      "source": [
        "#helper function for creating a population using the breeding method\n",
        "def breedPopulation(mating_pool, elite_size):\n",
        "    children = []\n",
        "    length = len(mating_pool) - elite_size\n",
        "    pool = random.sample(mating_pool, len(mating_pool))\n",
        "\n",
        "    for i in range(0,elite_size):\n",
        "        children.append(mating_pool[i])\n",
        "    \n",
        "    for i in range(0, length):\n",
        "        child = breed(pool[i], pool[len(mating_pool)-i-1])\n",
        "        children.append(child)\n",
        "    return children"
      ],
      "execution_count": 0,
      "outputs": []
    },
    {
      "cell_type": "markdown",
      "metadata": {
        "id": "FzyfYpoVYKzW",
        "colab_type": "text"
      },
      "source": [
        "**5. Swap Mutation**\n",
        "\n",
        "In swap mutation, the cities in the route are interchanged and swapped to create new chromosomes i.e. routes.|"
      ]
    },
    {
      "cell_type": "code",
      "metadata": {
        "id": "dPj8ORIHYDJ1",
        "colab_type": "code",
        "colab": {}
      },
      "source": [
        "#the chance of muation is small and two cities are swapped in the route\n",
        "def mutate(individual_route, mutation_rate):\n",
        "    for swap in range(len(individual_route)):\n",
        "        if(random.random() < mutation_rate):\n",
        "            swap_with = int(random.random() * len(individual_route))\n",
        "            individual_route[swap], individual_route[swap_with] = individual_route[swap_with], individual_route[swap]\n",
        "    return individual_route"
      ],
      "execution_count": 0,
      "outputs": []
    },
    {
      "cell_type": "code",
      "metadata": {
        "id": "8daw8R-nbWkF",
        "colab_type": "code",
        "colab": {}
      },
      "source": [
        "#helper function to mutate t\n",
        "def mutatePopulation(population, mutation_rate):\n",
        "    mutated_population = []\n",
        "    \n",
        "    for index in range(0, len(population)):\n",
        "        mutated_index = mutate(population[index], mutation_rate)\n",
        "        mutated_population.append(mutated_index)\n",
        "    return mutated_population"
      ],
      "execution_count": 0,
      "outputs": []
    },
    {
      "cell_type": "markdown",
      "metadata": {
        "id": "Nju0DY_mh2Yj",
        "colab_type": "text"
      },
      "source": [
        "**6. Creating New Generation using Mutation, Mating and Breeding**\n",
        "\n",
        "New Generations are crearted having all the operations performed i.e. mutation, breeding and mating."
      ]
    },
    {
      "cell_type": "code",
      "metadata": {
        "id": "gAEOeYejcsr1",
        "colab_type": "code",
        "colab": {}
      },
      "source": [
        "#Generating new generation of population from the current generation\n",
        "#this will combine all the process --> selection, mating, mutation, breeding\n",
        "def nextGeneration(current_generation, elite_size, mutation_rate):\n",
        "    ranked_population = rankRoutes(current_generation)\n",
        "    selected_parents = selection(ranked_population, elite_size)\n",
        "    mating_pool = matingPool(current_generation, selected_parents)\n",
        "    children = breedPopulation(mating_pool, elite_size)\n",
        "    new_generation = mutatePopulation(children, mutation_rate)\n",
        "    return new_generation"
      ],
      "execution_count": 0,
      "outputs": []
    },
    {
      "cell_type": "markdown",
      "metadata": {
        "id": "tYIMug0ih-tN",
        "colab_type": "text"
      },
      "source": [
        "**7. Running the Algorithm**\n",
        "\n",
        "The algorithm is run for certain number of generations, which is a parameter for number of times, the algorithm repeats itself and needs to be chosen according to the complexity of the problem.\n",
        "\n",
        "The other parameters are: \n",
        "1. Population --> The total number of chromosomes. (list of cities)\n",
        "2. population_size --> The population size i.e. size of list of the cities.\n",
        "3. elite_size --> The number of samples to take from the fittest candidates.\n",
        "4. mutation_rate --> The rate of the mutation used to perform mutation few number of times.\n",
        "5. generations --> The total number of generations the algorithm runs for."
      ]
    },
    {
      "cell_type": "code",
      "metadata": {
        "id": "HCfTXxOlhwXc",
        "colab_type": "code",
        "colab": {}
      },
      "source": [
        "def geneticAlgorithmWithPlot(population, population_size, elite_size, mutation_rate, generations):\n",
        "    new_population = createInitialPopulation(population_size, population)\n",
        "    distances = []\n",
        "    distances.append(1 / rankRoutes(new_population)[0][1])\n",
        " \n",
        "    print(\"Initial Distance: \" + str((1 / rankRoutes(new_population)[0][1])))\n",
        "    for i in range(0, generations):\n",
        "        new_population = nextGeneration(new_population, elite_size, mutation_rate)\n",
        "        distances.append(1 / rankRoutes(new_population)[0][1])\n",
        "  \n",
        "    print(\"Final Distance: \" + str((1 / rankRoutes(new_population)[0][1])))\n",
        "    \n",
        "    plt.plot(distances)\n",
        "    plt.ylabel('Distance')\n",
        "    plt.xlabel('Generation')\n",
        "    plt.show()\n"
      ],
      "execution_count": 0,
      "outputs": []
    },
    {
      "cell_type": "code",
      "metadata": {
        "id": "C52d5IBz4Ocs",
        "colab_type": "code",
        "colab": {
          "base_uri": "https://localhost:8080/",
          "height": 334
        },
        "outputId": "ced0bcab-e886-4246-c8ae-cf69902388c3"
      },
      "source": [
        "import csv\n",
        "import timeit \n",
        "\n",
        "cities = []\n",
        "with open('tsp.csv', 'r') as f:\n",
        "    reader = csv.reader(f)\n",
        "    i = 0\n",
        "    for row in reader:\n",
        "        cities.append(City(x = float(row[1]), y = float(row[2])))\n",
        "\n",
        "POPULATION_SIZE = 100\n",
        "ELITE_SIZE = 20\n",
        "MUTATION_RATE = 0.01\n",
        "GENERATIONS = 500\n",
        "\n",
        "start = timeit.default_timer()\n",
        "\n",
        "geneticAlgorithmWithPlot(population=cities, population_size=POPULATION_SIZE, elite_size=ELITE_SIZE, mutation_rate=MUTATION_RATE, generations=GENERATIONS)\n",
        "\n",
        "stop = timeit.default_timer()\n",
        "print('Time: ', stop - start, 'secs') "
      ],
      "execution_count": 620,
      "outputs": [
        {
          "output_type": "stream",
          "text": [
            "Initial Distance: 2125.1028594453364\n",
            "Final Distance: 1005.7677300979168\n"
          ],
          "name": "stdout"
        },
        {
          "output_type": "display_data",
          "data": {
            "image/png": "[encoded data removed]",
            "text/plain": [
              "<Figure size 432x288 with 1 Axes>"
            ]
          },
          "metadata": {
            "tags": []
          }
        },
        {
          "output_type": "stream",
          "text": [
            "Time:  14.49168180599736 secs\n"
          ],
          "name": "stdout"
        }
      ]
    },
    {
      "cell_type": "markdown",
      "metadata": {
        "id": "_ZqOStYVD7FP",
        "colab_type": "text"
      },
      "source": [
        "**Creating the CSV file for the data**"
      ]
    },
    {
      "cell_type": "code",
      "metadata": {
        "id": "FXt9l1bKnemw",
        "colab_type": "code",
        "colab": {
          "base_uri": "https://localhost:8080/",
          "height": 55
        },
        "outputId": "7b66a8a1-ec3d-487a-97f1-b0957cf3bd00"
      },
      "source": [
        "'''import csv\n",
        "\n",
        "with open('tsp.csv', 'w') as csvfile:\n",
        "  filewriter = csv.writer(csvfile, delimiter=',',quotechar='|', quoting=csv.QUOTE_MINIMAL)\n",
        "  filewriter.writerow(['city', 'x', 'y'])\n",
        "  for i in range(0,25):\n",
        "    filewriter.writerow([i, random.random()*200, random.random()*200])'''"
      ],
      "execution_count": 621,
      "outputs": [
        {
          "output_type": "execute_result",
          "data": {
            "text/plain": [
              "\"import csv\\n\\nwith open('tsp.csv', 'w') as csvfile:\\n  filewriter = csv.writer(csvfile, delimiter=',',quotechar='|', quoting=csv.QUOTE_MINIMAL)\\n  filewriter.writerow(['city', 'x', 'y'])\\n  for i in range(0,25):\\n    filewriter.writerow([i, random.random()*200, random.random()*200])\""
            ]
          },
          "metadata": {
            "tags": []
          },
          "execution_count": 621
        }
      ]
    }
  ]
}
